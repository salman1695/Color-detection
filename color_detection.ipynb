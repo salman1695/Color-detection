{
 "cells": [
  {
   "cell_type": "code",
   "execution_count": 1,
   "id": "1a25beca-db7b-45f6-82b8-40825ba51383",
   "metadata": {},
   "outputs": [],
   "source": [
    "import cv2\n",
    "import numpy as np\n"
   ]
  },
  {
   "cell_type": "code",
   "execution_count": 3,
   "id": "ceced896-d2da-4e10-bf24-b04859be72a4",
   "metadata": {},
   "outputs": [],
   "source": [
    "def adjust_brightness(image, factor):\n",
    "    # Convert to HSV to scale the V (brightness) channel\n",
    "    hsv = cv2.cvtColor(image, cv2.COLOR_BGR2HSV)\n",
    "    h, s, v = cv2.split(hsv)\n",
    "    v = np.clip(v * factor, 0, 255).astype(np.uint8)\n",
    "    hsv = cv2.merge([h, s, v])\n",
    "    return cv2.cvtColor(hsv, cv2.COLOR_HSV2BGR)"
   ]
  },
  {
   "cell_type": "code",
   "execution_count": 5,
   "id": "05f45196-0671-4093-be42-5be5e049bf95",
   "metadata": {},
   "outputs": [],
   "source": [
    "\n",
    "def detect_colors(image, colors):\n",
    "    # Define HSV ranges for each color\n",
    "    hsv = cv2.cvtColor(image, cv2.COLOR_BGR2HSV)\n",
    "    ranges = {\n",
    "        \"blue\":   ([100, 150, 50], [140, 255, 255]),\n",
    "        \"green\":  ([40, 70, 70],  [80, 255, 255]),\n",
    "        \"yellow\": ([20, 100, 100],[30, 255, 255]),\n",
    "    }\n",
    "    detections = []\n",
    "    for name in colors:\n",
    "        if name in ranges:\n",
    "            lower, upper = ranges[name]\n",
    "            mask = cv2.inRange(hsv, np.array(lower), np.array(upper))\n",
    "            contours, _ = cv2.findContours(mask, cv2.RETR_EXTERNAL, cv2.CHAIN_APPROX_SIMPLE)\n",
    "            for cnt in contours:\n",
    "                if cv2.contourArea(cnt) > 500:\n",
    "                    x, y, w, h = cv2.boundingRect(cnt)\n",
    "                    detections.append((name, (x, y, x + w, y + h)))\n",
    "    return detections"
   ]
  },
  {
   "cell_type": "code",
   "execution_count": 7,
   "id": "9c08889c-36c0-4c7b-8353-f070eb11415e",
   "metadata": {},
   "outputs": [],
   "source": [
    "def main():\n",
    "    cap = cv2.VideoCapture(0)\n",
    "    if not cap.isOpened():\n",
    "        print(\"Cannot open camera\")\n",
    "        return\n",
    "\n",
    "    while True:\n",
    "        ret, frame = cap.read()\n",
    "        if not ret:\n",
    "            break\n",
    "\n",
    "        flip = cv2.flip(frame, 1)\n",
    "        bright = adjust_brightness(flip, 1.2)\n",
    "        detected = detect_colors(bright, [\"blue\", \"green\", \"yellow\"])\n",
    "\n",
    "        for name, (x1, y1, x2, y2) in detected:\n",
    "            cv2.rectangle(bright, (x1, y1), (x2, y2), (0, 255, 0), 3)\n",
    "            cv2.putText(bright, name.capitalize(), (x1, y2 + 20),\n",
    "                        cv2.FONT_HERSHEY_COMPLEX, 0.5, (0, 255, 255), 2, cv2.LINE_AA)\n",
    "\n",
    "        cv2.putText(bright, \"PRESS ESC TO EXIT\", (10, 30),\n",
    "                    cv2.FONT_HERSHEY_COMPLEX, 0.5, (0, 0, 0), 2, cv2.LINE_AA)\n",
    "        cv2.imshow(\"color_detection_live\", bright)\n",
    "\n",
    "        if cv2.waitKey(1) == 27:  # ESC key\n",
    "            break\n",
    "\n",
    "    cap.release()\n",
    "    cv2.destroyAllWindows()"
   ]
  },
  {
   "cell_type": "code",
   "execution_count": 9,
   "id": "edb1f518-9b5d-47cb-a1cf-396fe6c6dc3c",
   "metadata": {},
   "outputs": [],
   "source": [
    "if __name__ == \"__main__\":\n",
    "    main()\n"
   ]
  },
  {
   "cell_type": "code",
   "execution_count": null,
   "id": "966781a1-1a0d-4777-8080-07f27c522d93",
   "metadata": {},
   "outputs": [],
   "source": []
  }
 ],
 "metadata": {
  "kernelspec": {
   "display_name": "Python [conda env:base] *",
   "language": "python",
   "name": "conda-base-py"
  },
  "language_info": {
   "codemirror_mode": {
    "name": "ipython",
    "version": 3
   },
   "file_extension": ".py",
   "mimetype": "text/x-python",
   "name": "python",
   "nbconvert_exporter": "python",
   "pygments_lexer": "ipython3",
   "version": "3.12.7"
  }
 },
 "nbformat": 4,
 "nbformat_minor": 5
}
