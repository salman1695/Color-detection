{
 "cells": [
  {
   "cell_type": "code",
   "execution_count": 17,
   "id": "d688f215-4fbf-427d-8842-193146d5dfaf",
   "metadata": {},
   "outputs": [],
   "source": [
    "import cv2\n",
    "import numpy as np"
   ]
  },
  {
   "cell_type": "code",
   "execution_count": 1,
   "id": "40e0195f-1091-4487-8009-97ddf5062cc1",
   "metadata": {},
   "outputs": [],
   "source": [
    "def adjust_brightness(image, factor):\n",
    "    \"\"\"Adjust image brightness by scaling the V channel in HSV.\"\"\"\n",
    "    hsv = cv2.cvtColor(image, cv2.COLOR_BGR2HSV)\n",
    "    h, s, v = cv2.split(hsv)\n",
    "    v = np.clip(v * factor, 0, 255).astype(np.uint8)\n",
    "    hsv = cv2.merge([h, s, v])\n",
    "    return cv2.cvtColor(hsv, cv2.COLOR_HSV2BGR)"
   ]
  },
  {
   "cell_type": "code",
   "execution_count": 3,
   "id": "033d9378-3029-426f-84e7-283ef16c8115",
   "metadata": {},
   "outputs": [],
   "source": [
    "\n",
    "# Extended HSV ranges for multiple colors\n",
    "HSV_RANGES = {\n",
    "    \"blue\":   ([100, 150, 50], [140, 255, 255]),\n",
    "    \"green\":  ([40, 70, 70],  [80, 255, 255]),\n",
    "    \"yellow\": ([20, 100, 100], [30, 255, 255]),\n",
    "    \"red1\":   ([0, 120, 70],   [10, 255, 255]),\n",
    "    \"red2\":   ([170, 120, 70], [180, 255, 255]),\n",
    "    \"orange\": ([10, 100, 20],  [25, 255, 255]),\n",
    "    \"purple\": ([130, 50, 50],  [160, 255, 255]),\n",
    "    \"pink\":   ([160, 50, 50],  [170, 255, 255]),\n",
    "    \"white\":  ([0, 0, 200],    [180, 25, 255]),\n",
    "    \"black\":  ([0, 0, 0],      [180, 255, 30]),\n",
    "}"
   ]
  },
  {
   "cell_type": "code",
   "execution_count": 5,
   "id": "5c917fd1-3b09-4d4d-b281-e586ab50bcba",
   "metadata": {},
   "outputs": [],
   "source": [
    "# BGR colors for drawing bounding boxes\n",
    "BGR_COLORS = {\n",
    "    \"blue\": (255, 0, 0),\n",
    "    \"green\": (0, 255, 0),\n",
    "    \"yellow\": (0, 255, 255),\n",
    "    \"red\": (0, 0, 255),\n",
    "    \"orange\": (0, 165, 255),\n",
    "    \"purple\": (255, 0, 255),\n",
    "    \"pink\": (203, 192, 255),\n",
    "    \"white\": (255, 255, 255),\n",
    "    \"black\": (0, 0, 0),\n",
    "}\n"
   ]
  },
  {
   "cell_type": "code",
   "execution_count": 7,
   "id": "a408ff93-a2ce-442a-8265-e9c821d7e917",
   "metadata": {},
   "outputs": [],
   "source": [
    "def detect_colors(image, color_names=None, min_area=500):\n",
    "    \"\"\"Detect specified colors in the image and return bounding boxes.\"\"\"\n",
    "    hsv = cv2.cvtColor(image, cv2.COLOR_BGR2HSV)\n",
    "    detections = []\n",
    "    names = color_names or HSV_RANGES.keys()\n",
    "\n",
    "    for name in names:\n",
    "        if name not in HSV_RANGES:\n",
    "            continue\n",
    "        lower, upper = HSV_RANGES[name]\n",
    "        mask = cv2.inRange(hsv, np.array(lower), np.array(upper))\n",
    "        # noise removal\n",
    "        kernel = cv2.getStructuringElement(cv2.MORPH_ELLIPSE, (5, 5))\n",
    "        mask = cv2.morphologyEx(mask, cv2.MORPH_OPEN, kernel)\n",
    "        mask = cv2.morphologyEx(mask, cv2.MORPH_CLOSE, kernel)\n",
    "\n",
    "        contours, _ = cv2.findContours(mask, cv2.RETR_EXTERNAL, cv2.CHAIN_APPROX_SIMPLE)\n",
    "        for cnt in contours:\n",
    "            if cv2.contourArea(cnt) > min_area:\n",
    "                x, y, w, h = cv2.boundingRect(cnt)\n",
    "                # unify red ranges\n",
    "                base_name = \"red\" if name.startswith('red') else name\n",
    "                detections.append((base_name, (x, y, x + w, y + h)))\n",
    "    return detections"
   ]
  },
  {
   "cell_type": "code",
   "execution_count": 9,
   "id": "69bd1478-1b67-4f76-a7e4-ef45ad6cefec",
   "metadata": {},
   "outputs": [],
   "source": [
    "def create_controls():\n",
    "    \"\"\"Create trackbars for interactive parameter tuning.\"\"\"\n",
    "    cv2.namedWindow('Controls', cv2.WINDOW_NORMAL)\n",
    "    cv2.createTrackbar('Brightness x10', 'Controls', 12, 30, lambda x: None)\n",
    "    cv2.createTrackbar('Min Area', 'Controls', 500, 5000, lambda x: None)"
   ]
  },
  {
   "cell_type": "code",
   "execution_count": 11,
   "id": "ae39a92f-149d-43e8-a3ac-0c1a7e3fbff2",
   "metadata": {},
   "outputs": [],
   "source": [
    "\n",
    "def get_control_values():\n",
    "    \"\"\"Fetch current values from controls.\"\"\"\n",
    "    b = cv2.getTrackbarPos('Brightness x10', 'Controls') / 10.0\n",
    "    area = cv2.getTrackbarPos('Min Area', 'Controls')\n",
    "    return max(b, 0.1), max(area, 100)"
   ]
  },
  {
   "cell_type": "code",
   "execution_count": 13,
   "id": "5923ed7c-90a9-4af9-b651-716322586b88",
   "metadata": {},
   "outputs": [],
   "source": [
    "\n",
    "def main():\n",
    "    cap = cv2.VideoCapture(0)\n",
    "    if not cap.isOpened():\n",
    "        print(\"Cannot open camera\")\n",
    "        return\n",
    "\n",
    "    create_controls()\n",
    "    fps_counter = cv2.getTickCount()\n",
    "\n",
    "    while True:\n",
    "        ret, frame = cap.read()\n",
    "        if not ret:\n",
    "            break\n",
    "\n",
    "        flip = cv2.flip(frame, 1)\n",
    "        brightness_factor, min_area = get_control_values()\n",
    "        bright = adjust_brightness(flip, brightness_factor)\n",
    "        detected = detect_colors(bright, min_area=min_area)\n",
    "\n",
    "        # draw detections\n",
    "        for name, (x1, y1, x2, y2) in detected:\n",
    "            color = BGR_COLORS.get(name, (0, 255, 0))\n",
    "            cv2.rectangle(bright, (x1, y1), (x2, y2), color, 2)\n",
    "            cv2.putText(bright, name.capitalize(), (x1, y2 + 20),\n",
    "                        cv2.FONT_HERSHEY_SIMPLEX, 0.6, color, 2)\n",
    "\n",
    "        # FPS calculation\n",
    "        current_tick = cv2.getTickCount()\n",
    "        fps = cv2.getTickFrequency() / (current_tick - fps_counter)\n",
    "        fps_counter = current_tick\n",
    "        cv2.putText(bright, f\"FPS: {fps:.1f}\", (10, 30), cv2.FONT_HERSHEY_SIMPLEX, 0.6, (255,255,255), 2)\n",
    "\n",
    "        cv2.imshow(\"Color Detection Live\", bright)\n",
    "        key = cv2.waitKey(1) & 0xFF\n",
    "        if key in (27, ord('q')):  # ESC or 'q'\n",
    "            break\n",
    "\n",
    "    cap.release()\n",
    "    cv2.destroyAllWindows()"
   ]
  },
  {
   "cell_type": "code",
   "execution_count": 19,
   "id": "018d9b8e-7fbf-4594-87eb-65a1962f5603",
   "metadata": {},
   "outputs": [],
   "source": [
    "if __name__ == \"__main__\":\n",
    "    main()"
   ]
  },
  {
   "cell_type": "code",
   "execution_count": null,
   "id": "c7110d3c-ff0e-401f-9ee5-b127ebd75240",
   "metadata": {},
   "outputs": [],
   "source": []
  },
  {
   "cell_type": "code",
   "execution_count": null,
   "id": "49bd286a-4e86-43d5-a2c9-612b177854b9",
   "metadata": {},
   "outputs": [],
   "source": []
  }
 ],
 "metadata": {
  "kernelspec": {
   "display_name": "Python [conda env:base] *",
   "language": "python",
   "name": "conda-base-py"
  },
  "language_info": {
   "codemirror_mode": {
    "name": "ipython",
    "version": 3
   },
   "file_extension": ".py",
   "mimetype": "text/x-python",
   "name": "python",
   "nbconvert_exporter": "python",
   "pygments_lexer": "ipython3",
   "version": "3.12.7"
  }
 },
 "nbformat": 4,
 "nbformat_minor": 5
}
